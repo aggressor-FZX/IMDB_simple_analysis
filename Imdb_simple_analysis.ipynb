{
 "cells": [
  {
   "cell_type": "code",
   "execution_count": 49,
   "metadata": {
    "id": "RxUyLiqxauJL"
   },
   "outputs": [],
   "source": [
    "# Import the numpy and pandas packages\n",
    "import numpy as np\n",
    "import pandas as pd\n",
    "\n"
   ]
  },
  {
   "cell_type": "markdown",
   "metadata": {
    "id": "D9VH4sEXe5Co"
   },
   "source": [
    "# Step 0: Load the dataset in the working folder"
   ]
  },
  {
   "cell_type": "code",
   "execution_count": 50,
   "metadata": {
    "id": "D32LyBv9cAMN"
   },
   "outputs": [],
   "source": [
    "import zipfile\n",
    "import os\n",
    "# I am runing the WSL Ubuntu on my Windows 11 machine, so I have to specify the path to the Windows file system\n",
    "\n",
    "os.chdir(\"/mnt/c/Users/jeffd/OneDrive/Desktop/WSU Classes/Data_319_Data_Structures/HW3\")\n",
    "zip_path = \"/mnt/c/Users/jeffd/OneDrive/Desktop/WSU Classes/Data_319_Data_Structures/HW3/movies_data.zip\"\n",
    "unzip_path =\"/mnt/c/Users/jeffd/OneDrive/Desktop/WSU Classes/Data_319_Data_Structures/HW3\"\n",
    "\n",
    "with zipfile.ZipFile(zip_path, 'r') as zip_ref:\n",
    "    zip_ref.extractall(unzip_path)\n"
   ]
  },
  {
   "cell_type": "code",
   "execution_count": 51,
   "metadata": {
    "id": "xleO1z4pcE2r"
   },
   "outputs": [
    {
     "name": "stdout",
     "output_type": "stream",
     "text": [
      "'Assignment 3.pdf'\t\t\t   MovieAssignmentData.csv\n",
      " Caldeorn_HW3_movies_data_analysis.ipynb   __MACOSX\n",
      " HW3_movies_data_analysis.ipynb\t\t   movies_data.zip\n"
     ]
    }
   ],
   "source": [
    "# list the contents of the Present Working Directory (also called pwd)\n",
    "# I have windows so I am using the !dir command. If you are using a Mac or Linux, use !ls\n",
    "!ls"
   ]
  },
  {
   "cell_type": "markdown",
   "metadata": {
    "id": "soGV9NEMevfL"
   },
   "source": [
    "# Step 1: Reading and Inspection\n",
    "\n",
    "\n",
    "\n",
    "### Import and read\n",
    "\n",
    "Import and read the movie database. Store it in a variable called `movies`."
   ]
  },
  {
   "cell_type": "code",
   "execution_count": 52,
   "metadata": {
    "id": "Pw82cjEPewAC"
   },
   "outputs": [
    {
     "data": {
      "text/html": [
       "<div>\n",
       "<style scoped>\n",
       "    .dataframe tbody tr th:only-of-type {\n",
       "        vertical-align: middle;\n",
       "    }\n",
       "\n",
       "    .dataframe tbody tr th {\n",
       "        vertical-align: top;\n",
       "    }\n",
       "\n",
       "    .dataframe thead th {\n",
       "        text-align: right;\n",
       "    }\n",
       "</style>\n",
       "<table border=\"1\" class=\"dataframe\">\n",
       "  <thead>\n",
       "    <tr style=\"text-align: right;\">\n",
       "      <th></th>\n",
       "      <th>color</th>\n",
       "      <th>director_name</th>\n",
       "      <th>num_critic_for_reviews</th>\n",
       "      <th>duration</th>\n",
       "      <th>director_facebook_likes</th>\n",
       "      <th>actor_3_facebook_likes</th>\n",
       "      <th>actor_2_name</th>\n",
       "      <th>actor_1_facebook_likes</th>\n",
       "      <th>gross</th>\n",
       "      <th>genres</th>\n",
       "      <th>...</th>\n",
       "      <th>num_user_for_reviews</th>\n",
       "      <th>language</th>\n",
       "      <th>country</th>\n",
       "      <th>content_rating</th>\n",
       "      <th>budget</th>\n",
       "      <th>title_year</th>\n",
       "      <th>actor_2_facebook_likes</th>\n",
       "      <th>imdb_score</th>\n",
       "      <th>aspect_ratio</th>\n",
       "      <th>movie_facebook_likes</th>\n",
       "    </tr>\n",
       "  </thead>\n",
       "  <tbody>\n",
       "    <tr>\n",
       "      <th>0</th>\n",
       "      <td>Color</td>\n",
       "      <td>James Cameron</td>\n",
       "      <td>723.00</td>\n",
       "      <td>178.00</td>\n",
       "      <td>0.00</td>\n",
       "      <td>855.00</td>\n",
       "      <td>Joel David Moore</td>\n",
       "      <td>1000.00</td>\n",
       "      <td>760505847.00</td>\n",
       "      <td>Action|Adventure|Fantasy|Sci-Fi</td>\n",
       "      <td>...</td>\n",
       "      <td>3054.00</td>\n",
       "      <td>English</td>\n",
       "      <td>USA</td>\n",
       "      <td>PG-13</td>\n",
       "      <td>237000000.00</td>\n",
       "      <td>2009.00</td>\n",
       "      <td>936.00</td>\n",
       "      <td>7.90</td>\n",
       "      <td>1.78</td>\n",
       "      <td>33000</td>\n",
       "    </tr>\n",
       "    <tr>\n",
       "      <th>1</th>\n",
       "      <td>Color</td>\n",
       "      <td>Gore Verbinski</td>\n",
       "      <td>302.00</td>\n",
       "      <td>169.00</td>\n",
       "      <td>563.00</td>\n",
       "      <td>1000.00</td>\n",
       "      <td>Orlando Bloom</td>\n",
       "      <td>40000.00</td>\n",
       "      <td>309404152.00</td>\n",
       "      <td>Action|Adventure|Fantasy</td>\n",
       "      <td>...</td>\n",
       "      <td>1238.00</td>\n",
       "      <td>English</td>\n",
       "      <td>USA</td>\n",
       "      <td>PG-13</td>\n",
       "      <td>300000000.00</td>\n",
       "      <td>2007.00</td>\n",
       "      <td>5000.00</td>\n",
       "      <td>7.10</td>\n",
       "      <td>2.35</td>\n",
       "      <td>0</td>\n",
       "    </tr>\n",
       "    <tr>\n",
       "      <th>2</th>\n",
       "      <td>Color</td>\n",
       "      <td>Sam Mendes</td>\n",
       "      <td>602.00</td>\n",
       "      <td>148.00</td>\n",
       "      <td>0.00</td>\n",
       "      <td>161.00</td>\n",
       "      <td>Rory Kinnear</td>\n",
       "      <td>11000.00</td>\n",
       "      <td>200074175.00</td>\n",
       "      <td>Action|Adventure|Thriller</td>\n",
       "      <td>...</td>\n",
       "      <td>994.00</td>\n",
       "      <td>English</td>\n",
       "      <td>UK</td>\n",
       "      <td>PG-13</td>\n",
       "      <td>245000000.00</td>\n",
       "      <td>2015.00</td>\n",
       "      <td>393.00</td>\n",
       "      <td>6.80</td>\n",
       "      <td>2.35</td>\n",
       "      <td>85000</td>\n",
       "    </tr>\n",
       "    <tr>\n",
       "      <th>3</th>\n",
       "      <td>Color</td>\n",
       "      <td>Christopher Nolan</td>\n",
       "      <td>813.00</td>\n",
       "      <td>164.00</td>\n",
       "      <td>22000.00</td>\n",
       "      <td>23000.00</td>\n",
       "      <td>Christian Bale</td>\n",
       "      <td>27000.00</td>\n",
       "      <td>448130642.00</td>\n",
       "      <td>Action|Thriller</td>\n",
       "      <td>...</td>\n",
       "      <td>2701.00</td>\n",
       "      <td>English</td>\n",
       "      <td>USA</td>\n",
       "      <td>PG-13</td>\n",
       "      <td>250000000.00</td>\n",
       "      <td>2012.00</td>\n",
       "      <td>23000.00</td>\n",
       "      <td>8.50</td>\n",
       "      <td>2.35</td>\n",
       "      <td>164000</td>\n",
       "    </tr>\n",
       "    <tr>\n",
       "      <th>4</th>\n",
       "      <td>NaN</td>\n",
       "      <td>Doug Walker</td>\n",
       "      <td>NaN</td>\n",
       "      <td>NaN</td>\n",
       "      <td>131.00</td>\n",
       "      <td>NaN</td>\n",
       "      <td>Rob Walker</td>\n",
       "      <td>131.00</td>\n",
       "      <td>NaN</td>\n",
       "      <td>Documentary</td>\n",
       "      <td>...</td>\n",
       "      <td>NaN</td>\n",
       "      <td>NaN</td>\n",
       "      <td>NaN</td>\n",
       "      <td>NaN</td>\n",
       "      <td>NaN</td>\n",
       "      <td>NaN</td>\n",
       "      <td>12.00</td>\n",
       "      <td>7.10</td>\n",
       "      <td>NaN</td>\n",
       "      <td>0</td>\n",
       "    </tr>\n",
       "  </tbody>\n",
       "</table>\n",
       "<p>5 rows × 28 columns</p>\n",
       "</div>"
      ],
      "text/plain": [
       "   color      director_name  num_critic_for_reviews  duration  \\\n",
       "0  Color      James Cameron                  723.00    178.00   \n",
       "1  Color     Gore Verbinski                  302.00    169.00   \n",
       "2  Color         Sam Mendes                  602.00    148.00   \n",
       "3  Color  Christopher Nolan                  813.00    164.00   \n",
       "4    NaN        Doug Walker                     NaN       NaN   \n",
       "\n",
       "   director_facebook_likes  actor_3_facebook_likes      actor_2_name  \\\n",
       "0                     0.00                  855.00  Joel David Moore   \n",
       "1                   563.00                 1000.00     Orlando Bloom   \n",
       "2                     0.00                  161.00      Rory Kinnear   \n",
       "3                 22000.00                23000.00    Christian Bale   \n",
       "4                   131.00                     NaN        Rob Walker   \n",
       "\n",
       "   actor_1_facebook_likes        gross                           genres  ...  \\\n",
       "0                 1000.00 760505847.00  Action|Adventure|Fantasy|Sci-Fi  ...   \n",
       "1                40000.00 309404152.00         Action|Adventure|Fantasy  ...   \n",
       "2                11000.00 200074175.00        Action|Adventure|Thriller  ...   \n",
       "3                27000.00 448130642.00                  Action|Thriller  ...   \n",
       "4                  131.00          NaN                      Documentary  ...   \n",
       "\n",
       "  num_user_for_reviews language  country  content_rating       budget  \\\n",
       "0              3054.00  English      USA           PG-13 237000000.00   \n",
       "1              1238.00  English      USA           PG-13 300000000.00   \n",
       "2               994.00  English       UK           PG-13 245000000.00   \n",
       "3              2701.00  English      USA           PG-13 250000000.00   \n",
       "4                  NaN      NaN      NaN             NaN          NaN   \n",
       "\n",
       "   title_year actor_2_facebook_likes imdb_score  aspect_ratio  \\\n",
       "0     2009.00                 936.00       7.90          1.78   \n",
       "1     2007.00                5000.00       7.10          2.35   \n",
       "2     2015.00                 393.00       6.80          2.35   \n",
       "3     2012.00               23000.00       8.50          2.35   \n",
       "4         NaN                  12.00       7.10           NaN   \n",
       "\n",
       "  movie_facebook_likes  \n",
       "0                33000  \n",
       "1                    0  \n",
       "2                85000  \n",
       "3               164000  \n",
       "4                    0  \n",
       "\n",
       "[5 rows x 28 columns]"
      ]
     },
     "execution_count": 52,
     "metadata": {},
     "output_type": "execute_result"
    }
   ],
   "source": [
    "\n",
    "movies = pd.DataFrame(pd.read_csv(\"./MovieAssignmentData.csv\")) # pd.read_csv function is used to read the data\n",
    "movies.head() # notice the use of the .head() function for quickly displaying the data to get a feel"
   ]
  },
  {
   "cell_type": "markdown",
   "metadata": {
    "id": "Q3Zexw7WfJhP"
   },
   "source": [
    "### Inspect the dataframe\n",
    "\n",
    "Inspect the dataframe's columns, shapes, variable types etc."
   ]
  },
  {
   "cell_type": "code",
   "execution_count": 53,
   "metadata": {
    "id": "DhgbKrkbfCyb"
   },
   "outputs": [
    {
     "data": {
      "text/plain": [
       "(5043, 28)"
      ]
     },
     "execution_count": 53,
     "metadata": {},
     "output_type": "execute_result"
    }
   ],
   "source": [
    "# Row, columns in the Data\n",
    "movies.shape"
   ]
  },
  {
   "cell_type": "code",
   "execution_count": 54,
   "metadata": {
    "id": "ETzpnRSgfNAd"
   },
   "outputs": [
    {
     "name": "stdout",
     "output_type": "stream",
     "text": [
      "<class 'pandas.core.frame.DataFrame'>\n",
      "RangeIndex: 5043 entries, 0 to 5042\n",
      "Data columns (total 28 columns):\n",
      " #   Column                     Non-Null Count  Dtype  \n",
      "---  ------                     --------------  -----  \n",
      " 0   color                      5024 non-null   object \n",
      " 1   director_name              4939 non-null   object \n",
      " 2   num_critic_for_reviews     4993 non-null   float64\n",
      " 3   duration                   5028 non-null   float64\n",
      " 4   director_facebook_likes    4939 non-null   float64\n",
      " 5   actor_3_facebook_likes     5020 non-null   float64\n",
      " 6   actor_2_name               5030 non-null   object \n",
      " 7   actor_1_facebook_likes     5036 non-null   float64\n",
      " 8   gross                      4159 non-null   float64\n",
      " 9   genres                     5043 non-null   object \n",
      " 10  actor_1_name               5036 non-null   object \n",
      " 11  movie_title                5043 non-null   object \n",
      " 12  num_voted_users            5043 non-null   int64  \n",
      " 13  cast_total_facebook_likes  5043 non-null   int64  \n",
      " 14  actor_3_name               5020 non-null   object \n",
      " 15  facenumber_in_poster       5030 non-null   float64\n",
      " 16  plot_keywords              4890 non-null   object \n",
      " 17  movie_imdb_link            5043 non-null   object \n",
      " 18  num_user_for_reviews       5022 non-null   float64\n",
      " 19  language                   5029 non-null   object \n",
      " 20  country                    5038 non-null   object \n",
      " 21  content_rating             4740 non-null   object \n",
      " 22  budget                     4551 non-null   float64\n",
      " 23  title_year                 4935 non-null   float64\n",
      " 24  actor_2_facebook_likes     5030 non-null   float64\n",
      " 25  imdb_score                 5043 non-null   float64\n",
      " 26  aspect_ratio               4714 non-null   float64\n",
      " 27  movie_facebook_likes       5043 non-null   int64  \n",
      "dtypes: float64(13), int64(3), object(12)\n",
      "memory usage: 1.1+ MB\n"
     ]
    }
   ],
   "source": [
    "# Concise summary of the Dataframe.\n",
    "movies.info()"
   ]
  },
  {
   "cell_type": "markdown",
   "metadata": {
    "id": "ycYJ32wvmOFA"
   },
   "source": [
    "**How many null values does the column with gross budget of the movie (by the name `gross`) have?** [5]"
   ]
  },
  {
   "cell_type": "code",
   "execution_count": 55,
   "metadata": {
    "id": "dFtYLsTMfOon"
   },
   "outputs": [
    {
     "name": "stdout",
     "output_type": "stream",
     "text": [
      "Summary of the 'gross' column:\n",
      "Count: 4159\n",
      "Mode: 3,000,000\n",
      "Median: 25,517,500\n",
      "Mean: 48,468,408\n",
      "Standard Deviation: 68,452,990\n",
      "Variance: 4,685,811,900,007,989\n",
      "Minimum: 162\n",
      "Maximum: 760,505,847\n",
      "quantile 25%: 5,340,988\n",
      "quantile 50%: 25,517,500\n",
      "quantile 75%: 62,309,438\n",
      "Skew: 3.13\n"
     ]
    },
    {
     "data": {
      "text/plain": [
       "Text(0.5, 1.0, 'Distribution of Gross Earnings')"
      ]
     },
     "execution_count": 55,
     "metadata": {},
     "output_type": "execute_result"
    },
    {
     "data": {
      "image/png": "[encoded data removed]",
      "text/plain": [
       "<Figure size 1000x600 with 1 Axes>"
      ]
     },
     "metadata": {},
     "output_type": "display_data"
    }
   ],
   "source": [
    "# Generate descriptive statistics that summarize the central tendency, dispersion and shape of a dataset’s distribution,\n",
    "# excluding NaN values\n",
    "import matplotlib.pyplot as plt\n",
    "\n",
    "# Summary of the 'gross' column\n",
    "print(f\"Summary of the 'gross' column:\")\n",
    "print(f\"Count: {movies['gross'].count()}\")\n",
    "print(f\"Mode: {movies['gross'].mode().values[0]:,.0f}\")\n",
    "print(f\"Median: {movies['gross'].median():,.0f}\")\n",
    "print(f\"Mean: {movies['gross'].mean():,.0f}\")\n",
    "print(f\"Standard Deviation: {movies['gross'].std():,.0f}\")\n",
    "print(f\"Variance: {movies['gross'].var():,.0f}\")\n",
    "print(f\"Minimum: {movies['gross'].min():,.0f}\")\n",
    "print(f\"Maximum: {movies['gross'].max():,.0f}\")\n",
    "print(f'quantile 25%: {movies[\"gross\"].quantile(0.25):,.0f}')\n",
    "print(f'quantile 50%: {movies[\"gross\"].quantile(0.50):,.0f}')\n",
    "print(f'quantile 75%: {movies[\"gross\"].quantile(0.75):,.0f}')\n",
    "\n",
    "# check skew of the 'gross' column\n",
    "print(f\"Skew: {movies['gross'].skew():,.2f}\")\n",
    "histogram = movies['gross'].hist(bins=30, grid=False, figsize=(10, 6), color='skyblue')\n",
    "histogram.set_xlabel('Gross')\n",
    "histogram.set_ylabel('Frequency')\n",
    "histogram.set_title('Distribution of Gross Earnings')   \n"
   ]
  },
  {
   "cell_type": "markdown",
   "metadata": {
    "id": "g1-9YLk5lARg"
   },
   "source": [
    "**What is the longest duration of any movie in the dataset?** [5]"
   ]
  },
  {
   "cell_type": "code",
   "execution_count": 56,
   "metadata": {
    "id": "M_J_jY28fQ3W"
   },
   "outputs": [
    {
     "name": "stdout",
     "output_type": "stream",
     "text": [
      "count   5028.00\n",
      "mean     107.20\n",
      "std       25.20\n",
      "min        7.00\n",
      "25%       93.00\n",
      "50%      103.00\n",
      "75%      118.00\n",
      "max      511.00\n",
      "Name: duration, dtype: float64\n",
      "\n",
      "Maxumum duration movie set is 511.0 minutes long.\n",
      "Trapped is 511.0 minutes long.\n",
      "A fitting name for scuh a long movie\n"
     ]
    }
   ],
   "source": [
    "print(movies.duration.describe().round(2))\n",
    "max_num = movies.duration.max()\n",
    "print(f'\\nMaxumum duration movie set is {max_num} minutes long.')\n",
    "\n",
    "long_movie = movies[movies.duration == max_num]\n",
    "\n",
    "for movie in long_movie['movie_title']:\n",
    "    print(f'{movie.strip()} is {max_num} minutes long.')\n",
    "    print('A fitting name for scuh a long movie')\n"
   ]
  },
  {
   "cell_type": "markdown",
   "metadata": {
    "id": "1be8KcKjiVLW"
   },
   "source": [
    "**How many directors are there?** [5]"
   ]
  },
  {
   "cell_type": "code",
   "execution_count": 57,
   "metadata": {},
   "outputs": [
    {
     "name": "stdout",
     "output_type": "stream",
     "text": [
      "\n",
      "Nan values in the dataset is 104.\n",
      "of 5043 movies in the dataset.\n",
      "\n",
      "There are 2398 directors in the dataset.\n",
      "\n",
      "The directors with the most facebook likes.\n",
      "Steven Spielberg: 364000.0\n",
      "Martin Scorsese: 340000.0\n",
      "Clint Eastwood: 320000.0\n",
      "Woody Allen: 242000.0\n",
      "David Fincher: 210000.0\n",
      "\n",
      "Joseph Gordon-Levitt director of Don Jon received the single highest Facebook likes for that movie.\n"
     ]
    }
   ],
   "source": [
    "movies_with_dir = movies.copy(deep=True) # copy the dataframe to another variable\n",
    "movies_with_dir.dropna(subset=['director_name'], inplace=True) # drop the rows where director_name is missing\n",
    "nan_values = movies.shape[0] - movies_with_dir.shape[0] # calculate the number of nan values\n",
    "\n",
    "print(f\"\\nNan values in the dataset is {nan_values}.\")\n",
    "print(f\"of {len(movies)} movies in the dataset.\") \n",
    "\n",
    "directors = [x for x in movies_with_dir.director_name if isinstance(x, str)] \n",
    "directors = list(set(directors)) # this will remove duplicates\n",
    "print(f'\\nThere are {len(directors)} directors in the dataset.')\n",
    "\n",
    "# for fun let's see what director had the most facebook likes\n",
    "director_fb_likes = movies_with_dir.groupby('director_name')['director_facebook_likes'].sum()\n",
    "top = director_fb_likes.nlargest(5)\n",
    "top_index = movies_with_dir.director_facebook_likes.idxmax()\n",
    "top_dir = \" director of \".join(\n",
    "    [movies_with_dir[ movies_with_dir.index == top_index].director_name.values[0], movies_with_dir[movies_with_dir.index == top_index].movie_title.values[0] ]\n",
    "    ).strip('')\n",
    "\n",
    "#best movies by director and single highest facebook likes\n",
    "print(f'\\nThe directors with the most facebook likes.')\n",
    "for idx, value in top.items():\n",
    "    print(f\"{idx}: {value}\")\n",
    "print(f'\\n{top_dir}received the single highest Facebook likes for that movie.')\n"
   ]
  },
  {
   "cell_type": "markdown",
   "metadata": {},
   "source": [
    "**How many Genres are there in the dataset?**"
   ]
  },
  {
   "cell_type": "code",
   "execution_count": 58,
   "metadata": {
    "id": "vkjlHG04fUOQ"
   },
   "outputs": [
    {
     "name": "stdout",
     "output_type": "stream",
     "text": [
      "genres: ['Action|Adventure|Family|Mystery', 'Animation|Drama|Family|Musical|Romance', 'Action|Adventure|Drama|Romance|Thriller', 'Comedy|Crime|Sci-Fi|Thriller', 'Comedy|Family|Fantasy|Sport']\n",
      "No! The genres are all mixed up\n",
      "\n",
      "We'll make a mega string and then parse it\n",
      "genres: ['News', 'Comedy', 'Biography', 'Family']\n",
      "Much better!\n",
      "\n",
      "There are 26 genres in the dataset.\n"
     ]
    }
   ],
   "source": [
    "movie_genres = movies.copy(deep=True)\n",
    "movie_genres.dropna(subset=['genres'], inplace=True)\n",
    "genres = [x for x in movie_genres.genres if isinstance(x, str)]\n",
    "genres = list(set(genres)) # same process as before\n",
    "\n",
    "print(f'genres: {genres[:5]}') \n",
    "print('No! The genres are all mixed up')\n",
    "print('\\nWe\\'ll make a mega string and then parse it')\n",
    "\n",
    "mega_string = ' '.join(genres) # using the list not list(set()) to keep the duplicates\n",
    "mega_string = mega_string.replace('|', ' ')\n",
    "genres = mega_string.split(' ')\n",
    "genres = list(set(genres)) # remove duplicates\n",
    "\n",
    "print(f'genres: {genres[:4]}') \n",
    "print('Much better!\\n')\n",
    "print(f'There are {len(genres)} genres in the dataset.')\n",
    "del movie_genres, mega_string, movies_with_dir # clean up the variables we no longer need"
   ]
  },
  {
   "cell_type": "markdown",
   "metadata": {
    "id": "6eB7P_HZiFTo"
   },
   "source": [
    "**What is the number of different languages for the movies in the dataset?** [5]"
   ]
  },
  {
   "cell_type": "code",
   "execution_count": 59,
   "metadata": {
    "id": "qh8_gac8fXAa"
   },
   "outputs": [
    {
     "name": "stdout",
     "output_type": "stream",
     "text": [
      "languages ['Kannada', 'French', 'Polish', 'Cantonese', 'Slovenian']...\n",
      "Yes, that looks good!\n",
      "\n",
      "There are 46 languages in the dataset.\n"
     ]
    }
   ],
   "source": [
    "movie_lang = movies.copy(deep=True)\n",
    "movie_lang.dropna(subset=['language'], inplace=True)\n",
    "languages = [x for x in movie_lang.language]\n",
    "languages = list(set(languages)) # remove duplicates\n",
    "\n",
    "print(f'languages {languages[:5]}...')\n",
    "print('Yes, that looks good!\\n')\n",
    "print(f'There are {len(languages)} languages in the dataset.')"
   ]
  },
  {
   "cell_type": "markdown",
   "metadata": {
    "id": "6Fps3x5Nfb6M"
   },
   "source": [
    "# Step 2: Cleaning the Data\n",
    "\n",
    "### Inspect Null values\n",
    "\n",
    "Find out the number of Null values in all the columns and rows. Also, find the percentage of Null values in each column. "
   ]
  },
  {
   "cell_type": "code",
   "execution_count": 60,
   "metadata": {
    "id": "YzX-JNQ5fZYZ"
   },
   "outputs": [
    {
     "name": "stdout",
     "output_type": "stream",
     "text": [
      "All null values:\n",
      "color                         19\n",
      "director_name                104\n",
      "num_critic_for_reviews        50\n",
      "duration                      15\n",
      "director_facebook_likes      104\n",
      "actor_3_facebook_likes        23\n",
      "actor_2_name                  13\n",
      "actor_1_facebook_likes         7\n",
      "gross                        884\n",
      "genres                         0\n",
      "actor_1_name                   7\n",
      "movie_title                    0\n",
      "num_voted_users                0\n",
      "cast_total_facebook_likes      0\n",
      "actor_3_name                  23\n",
      "facenumber_in_poster          13\n",
      "plot_keywords                153\n",
      "movie_imdb_link                0\n",
      "num_user_for_reviews          21\n",
      "language                      14\n",
      "country                        5\n",
      "content_rating               303\n",
      "budget                       492\n",
      "title_year                   108\n",
      "actor_2_facebook_likes        13\n",
      "imdb_score                     0\n",
      "aspect_ratio                 329\n",
      "movie_facebook_likes           0\n",
      "dtype: int64\n",
      "\n"
     ]
    }
   ],
   "source": [
    "# Code for column-wise null count here\n",
    "# I need to make sure I am counting all the nulls\n",
    "# It should add up to the total number of rows in the dataset\n",
    "print(f'All null values:\\n{movies.isnull().sum()}\\n')\n",
    "#\n",
    "\n"
   ]
  },
  {
   "cell_type": "code",
   "execution_count": 61,
   "metadata": {
    "id": "Wc-Y3W7Ffni6"
   },
   "outputs": [
    {
     "name": "stdout",
     "output_type": "stream",
     "text": [
      "All null values:\n",
      "color                         19\n",
      "director_name                104\n",
      "num_critic_for_reviews        50\n",
      "duration                      15\n",
      "director_facebook_likes      104\n",
      "actor_3_facebook_likes        23\n",
      "actor_2_name                  13\n",
      "actor_1_facebook_likes         7\n",
      "gross                        884\n",
      "genres                         0\n",
      "actor_1_name                   7\n",
      "movie_title                    0\n",
      "num_voted_users                0\n",
      "cast_total_facebook_likes      0\n",
      "actor_3_name                  23\n",
      "facenumber_in_poster          13\n",
      "plot_keywords                153\n",
      "movie_imdb_link                0\n",
      "num_user_for_reviews          21\n",
      "language                      14\n",
      "country                        5\n",
      "content_rating               303\n",
      "budget                       492\n",
      "title_year                   108\n",
      "actor_2_facebook_likes        13\n",
      "imdb_score                     0\n",
      "aspect_ratio                 329\n",
      "movie_facebook_likes           0\n",
      "dtype: int64\n",
      "\n",
      "Null values by percentage:\n",
      "\n",
      "color: 0.38%\n",
      "director_name: 2.06%\n",
      "num_critic_for_reviews: 0.99%\n",
      "duration: 0.30%\n",
      "director_facebook_likes: 2.06%\n",
      "actor_3_facebook_likes: 0.46%\n",
      "actor_2_name: 0.26%\n",
      "actor_1_facebook_likes: 0.14%\n",
      "gross: 17.53%\n",
      "genres: 0.00%\n",
      "actor_1_name: 0.14%\n",
      "movie_title: 0.00%\n",
      "num_voted_users: 0.00%\n",
      "cast_total_facebook_likes: 0.00%\n",
      "actor_3_name: 0.46%\n",
      "facenumber_in_poster: 0.26%\n",
      "plot_keywords: 3.03%\n",
      "movie_imdb_link: 0.00%\n",
      "num_user_for_reviews: 0.42%\n",
      "language: 0.28%\n",
      "country: 0.10%\n",
      "content_rating: 6.01%\n",
      "budget: 9.76%\n",
      "title_year: 2.14%\n",
      "actor_2_facebook_likes: 0.26%\n",
      "imdb_score: 0.00%\n",
      "aspect_ratio: 6.52%\n",
      "movie_facebook_likes: 0.00%\n"
     ]
    }
   ],
   "source": [
    "\n",
    "# I need to make sure I am counting all the nulls\n",
    "# It should add up to the total number of rows in the dataset\n",
    "print(f'All null values:\\n{movies.isnull().sum()}\\n')\n",
    "#\n",
    "null_percent = []\n",
    "for name, null_count in movies.isnull().sum().to_dict().items(): # As a dict axis will be detemined by the key/value pairs\n",
    "    movies_count = movies[name].count() # count all the non-null values\n",
    "    check = null_count + movies_count == movies.shape[0] # nulls plus non-nulls should equal the total number of rows\n",
    "    if not check: # if it doesn't add up we have a problem\n",
    "        print(f'Oh no! movies_count {movies_count}, nulls {null_count} doesn\\'t add up to {movies.shape[0]}')\n",
    "    \n",
    "    percent = (null_count / movies.shape[0]) * 100\n",
    "    null_percent.append((name, percent))\n",
    "    \n",
    "print(f'Null values by percentage:\\n')\n",
    "for name, percent in null_percent:\n",
    "    print(f'{name}: {percent:.2f}%')\n"
   ]
  },
  {
   "cell_type": "markdown",
   "metadata": {
    "id": "Y2d4P8LmfzZY"
   },
   "source": [
    "### Fill NaN values\n",
    "You might notice that the `language` column has some NaN values. Here, on inspection, you will see that it is safe to replace all the missing values with `'English'`."
   ]
  },
  {
   "cell_type": "code",
   "execution_count": 62,
   "metadata": {
    "id": "WUsgI2x7frr4"
   },
   "outputs": [],
   "source": [
    "clean_movies = movies.copy(deep=True)\n",
    "clean_movies['language'] = clean_movies['language'].fillna('English') # fill the missing values with English"
   ]
  },
  {
   "cell_type": "code",
   "execution_count": 63,
   "metadata": {
    "id": "M3Z0jxZSn3aO"
   },
   "outputs": [
    {
     "name": "stdout",
     "output_type": "stream",
     "text": [
      "\n",
      "Looks like I have 0 or no more nulls in this column. So it worked\n"
     ]
    }
   ],
   "source": [
    "# int(movies.language.isnull().sum() should be 0 to check to make sure it worked\n",
    "print(f'\\nLooks like I have {int(clean_movies.language.isnull().sum())} or no more nulls in this column. So it worked')\n"
   ]
  },
  {
   "cell_type": "markdown",
   "metadata": {
    "id": "Cipa2PH3f8In"
   },
   "source": [
    "### Drop unecessary rows\n",
    "Some of the rows might have greater than five NaN values. Such rows aren't of much use for the analysis and hence, we can safely remove them"
   ]
  },
  {
   "cell_type": "code",
   "execution_count": 64,
   "metadata": {
    "id": "_mEUWhgigBPP"
   },
   "outputs": [
    {
     "name": "stdout",
     "output_type": "stream",
     "text": [
      "\n",
      "Before dropping rows with more than 5 NaN values we have 5043 rows.\n",
      "\n",
      "After dropping rows with more than 5 NaN values we have 4970 rows left.\n"
     ]
    }
   ],
   "source": [
    "# modify the data in place dropping Nan rows where NaN > 5\n",
    "original_rows = movies.shape[0]\n",
    "min_non_na = clean_movies.shape[1] - 5 # the minimum number of non-NaN values\n",
    "\n",
    "print(f'\\nBefore dropping rows with more than 5 NaN values we have {movies.shape[0]} rows.')\n",
    "\n",
    "original_columns = movies.shape[1]\n",
    "clean_movies = clean_movies.dropna(thresh=min_non_na)\n",
    "\n",
    "print(f'\\nAfter dropping rows with more than 5 NaN values we have {clean_movies.shape[0]} rows left.')\n"
   ]
  },
  {
   "cell_type": "markdown",
   "metadata": {
    "id": "xacRYqWqgFB0"
   },
   "source": [
    "### Check the number of retained rows\n",
    "You might notice that two of the columns viz. `num_critic_for_reviews` and `actor_1_name` have small percentages of NaN values left. You can let these columns as it is for now. Check the number and percentage of the rows retained after completing all the tasks above."
   ]
  },
  {
   "cell_type": "code",
   "execution_count": 65,
   "metadata": {
    "id": "lqk8uV7kgMSN"
   },
   "outputs": [
    {
     "name": "stdout",
     "output_type": "stream",
     "text": [
      "That means we retained 98.55% of the original data.\n"
     ]
    }
   ],
   "source": [
    "percent_retained = (clean_movies.shape[0] / original_rows) * 100\n",
    "print(f'That means we retained {percent_retained:.2f}% of the original data.')"
   ]
  },
  {
   "cell_type": "markdown",
   "metadata": {
    "id": "wndLC8L0gdrM"
   },
   "source": [
    "### Count duplicate data entries\n",
    "Count the number of duplicate rows. Use the `.drop_diplicates()` function of pandas"
   ]
  },
  {
   "cell_type": "code",
   "execution_count": 66,
   "metadata": {
    "id": "wy5BDVKggTH8"
   },
   "outputs": [
    {
     "name": "stdout",
     "output_type": "stream",
     "text": [
      "\n",
      "There are 45 duplicate rows in the dataset.\n"
     ]
    }
   ],
   "source": [
    "dups = len(movies)-len(movies.drop_duplicates())\n",
    "print(f'\\nThere are {dups} duplicate rows in the dataset.')"
   ]
  },
  {
   "cell_type": "code",
   "execution_count": 67,
   "metadata": {
    "id": "QBqTK_lFg2J0"
   },
   "outputs": [
    {
     "name": "stdout",
     "output_type": "stream",
     "text": [
      "\n",
      "After dropping duplicates we have 4925 rows left.\n",
      "That means we retained 97.66% of the original data.\n"
     ]
    }
   ],
   "source": [
    "\n",
    "# I am going to drop the duplicates in the cleaned dataset\n",
    "clean_movies = clean_movies.drop_duplicates()\n",
    "print(f'\\nAfter dropping duplicates we have {clean_movies.shape[0]} rows left.')\n",
    "percent_retained = (clean_movies.shape[0] / original_rows) * 100\n",
    "print(f'That means we retained {percent_retained:.2f}% of the original data.')\n"
   ]
  },
  {
   "cell_type": "markdown",
   "metadata": {
    "id": "B-QctWZHg9-7"
   },
   "source": [
    "# Step 3: Data Analysis\n",
    "\n",
    "### Find the movies with highest profit\n",
    "\n",
    "- Create a new column called `profit` which contains the difference of the two columns: `gross` and `budget`.\n",
    "- Sort the dataframe using the `profit` column as reference.\n",
    "- Extract the top ten profiting movies in descending order and store them in a new dataframe called `top10`\n"
   ]
  },
  {
   "cell_type": "code",
   "execution_count": 68,
   "metadata": {
    "id": "ValR_Afng4uG"
   },
   "outputs": [],
   "source": [
    "# Lets calculate the profit \n",
    "clean_movies['profit'] = clean_movies.gross - clean_movies.budget"
   ]
  },
  {
   "cell_type": "code",
   "execution_count": 69,
   "metadata": {
    "id": "yDKZ_5iShXdJ"
   },
   "outputs": [
    {
     "name": "stdout",
     "output_type": "stream",
     "text": [
      "        movie_title       profit\n",
      "0           Avatar  523505847.00\n",
      "29  Jurassic World  502177271.00\n"
     ]
    }
   ],
   "source": [
    "clean_movies = clean_movies.sort_values(by='profit', ascending=False)\n",
    "print(clean_movies[['movie_title','profit']].head(2)) # print the top 2 check sort"
   ]
  },
  {
   "cell_type": "code",
   "execution_count": 70,
   "metadata": {
    "id": "Ehkw4--yhYs1"
   },
   "outputs": [
    {
     "name": "stdout",
     "output_type": "stream",
     "text": [
      "                                   movie_title       profit\n",
      "1                                      Avatar  523505847.00\n",
      "2                              Jurassic World  502177271.00\n",
      "3                                     Titanic  458672302.00\n",
      "4          Star Wars: Episode IV - A New Hope  449935665.00\n",
      "5                  E.T. the Extra-Terrestrial  424449459.00\n",
      "6                                The Avengers  403279547.00\n",
      "7                               The Lion King  377783777.00\n",
      "8   Star Wars: Episode I - The Phantom Menace  359544677.00\n",
      "9                             The Dark Knight  348316061.00\n",
      "10                           The Hunger Games  329999255.00\n"
     ]
    }
   ],
   "source": [
    "# print the top 10 movies data\n",
    "movies_by_profit = clean_movies[['movie_title','profit']].copy(deep=True) # print the top 2 check sort\n",
    "top10 = movies_by_profit.head(10)# remove index\n",
    "top10 = top10.reset_index(drop=True)\n",
    "#start index at one\n",
    "top10.index += 1\n",
    "print(top10)"
   ]
  },
  {
   "cell_type": "markdown",
   "metadata": {
    "id": "eEWcarm_hlKn"
   },
   "source": [
    "### Find IMDb Top 250 Movies\n",
    "\n",
    "- Create a new dataframe `IMDb_Top_250` and store the top 250 movies with the highest IMDb Rating (corresponding to the column: `imdb_score`). Ensure that for each of these movies, the `num_voted_users` is greater than 25,000.\n",
    "Also add a `Rank` column containing the values 1 to 250 indicating the ranks of the corresponding films."
   ]
  },
  {
   "cell_type": "code",
   "execution_count": 71,
   "metadata": {
    "id": "FEwvfOkuhaJW"
   },
   "outputs": [
    {
     "name": "stdout",
     "output_type": "stream",
     "text": [
      "(5043, 28)\n",
      "(2874, 28)\n",
      "Number decerased, looks like it worked\n",
      "\n",
      "Top 10 movies by IMDb score:\n",
      "      rank                                     movie_title  imdb_score\n",
      "1937     1                       The Shawshank Redemption         9.30\n",
      "3466     2                                  The Godfather         9.20\n",
      "66       3                                The Dark Knight         9.00\n",
      "2837     4                         The Godfather: Part II         9.00\n",
      "3481     5                              Fargo                     9.00\n",
      "3355     6                                   Pulp Fiction         8.90\n",
      "1874     7                               Schindler's List         8.90\n",
      "4498     8                 The Good, the Bad and the Ugly         8.90\n",
      "4822     9                                   12 Angry Men         8.90\n",
      "339     10  The Lord of the Rings: The Return of the King         8.90\n"
     ]
    }
   ],
   "source": [
    "IMDb_Top_250 = movies.copy(deep=True)\n",
    "\n",
    "# See coluns before dropping\n",
    "print(IMDb_Top_250.shape)\n",
    "IMDb_Top_250['num_voted_users'] = IMDb_Top_250['num_voted_users'].astype(int)\n",
    "IMDb_Top_250 = IMDb_Top_250[IMDb_Top_250['num_voted_users'] > 25000]\n",
    "\n",
    "# check to see if it worked\n",
    "print(IMDb_Top_250.shape)\n",
    "print('Number decerased, looks like it worked')\n",
    "\n",
    "# sort the data by imdb_score\n",
    "IMDb_Top_250 = IMDb_Top_250.sort_values(by='imdb_score', ascending=False)\n",
    "IMDb_Top_250 = IMDb_Top_250.head(250)\n",
    "IMDb_Top_250 = IMDb_Top_250.drop_duplicates()\n",
    "IMDb_Top_250['rank'] = range(1, 1+len(IMDb_Top_250)) # since it is already in order\n",
    "#make rank the first column\n",
    "cols = IMDb_Top_250.columns.tolist()\n",
    "cols = cols[-1:] + cols[:-1]\n",
    "IMDb_Top_250 = IMDb_Top_250[cols]\n",
    "# print the top 10 movies data\n",
    "print(\"\\nTop 10 movies by IMDb score:\")\n",
    "print(IMDb_Top_250[['rank','movie_title','imdb_score']].head(10)) # print the top 10 check sorta\n"
   ]
  },
  {
   "cell_type": "code",
   "execution_count": 72,
   "metadata": {
    "id": "oei1ol89kTMN"
   },
   "outputs": [
    {
     "data": {
      "text/html": [
       "<div>\n",
       "<style scoped>\n",
       "    .dataframe tbody tr th:only-of-type {\n",
       "        vertical-align: middle;\n",
       "    }\n",
       "\n",
       "    .dataframe tbody tr th {\n",
       "        vertical-align: top;\n",
       "    }\n",
       "\n",
       "    .dataframe thead th {\n",
       "        text-align: right;\n",
       "    }\n",
       "</style>\n",
       "<table border=\"1\" class=\"dataframe\">\n",
       "  <thead>\n",
       "    <tr style=\"text-align: right;\">\n",
       "      <th></th>\n",
       "      <th>rank</th>\n",
       "      <th>color</th>\n",
       "      <th>director_name</th>\n",
       "      <th>num_critic_for_reviews</th>\n",
       "      <th>duration</th>\n",
       "      <th>director_facebook_likes</th>\n",
       "      <th>actor_3_facebook_likes</th>\n",
       "      <th>actor_2_name</th>\n",
       "      <th>actor_1_facebook_likes</th>\n",
       "      <th>gross</th>\n",
       "      <th>...</th>\n",
       "      <th>num_user_for_reviews</th>\n",
       "      <th>language</th>\n",
       "      <th>country</th>\n",
       "      <th>content_rating</th>\n",
       "      <th>budget</th>\n",
       "      <th>title_year</th>\n",
       "      <th>actor_2_facebook_likes</th>\n",
       "      <th>imdb_score</th>\n",
       "      <th>aspect_ratio</th>\n",
       "      <th>movie_facebook_likes</th>\n",
       "    </tr>\n",
       "  </thead>\n",
       "  <tbody>\n",
       "    <tr>\n",
       "      <th>1937</th>\n",
       "      <td>1</td>\n",
       "      <td>Color</td>\n",
       "      <td>Frank Darabont</td>\n",
       "      <td>199.00</td>\n",
       "      <td>142.00</td>\n",
       "      <td>0.00</td>\n",
       "      <td>461.00</td>\n",
       "      <td>Jeffrey DeMunn</td>\n",
       "      <td>11000.00</td>\n",
       "      <td>28341469.00</td>\n",
       "      <td>...</td>\n",
       "      <td>4144.00</td>\n",
       "      <td>English</td>\n",
       "      <td>USA</td>\n",
       "      <td>R</td>\n",
       "      <td>25000000.00</td>\n",
       "      <td>1994.00</td>\n",
       "      <td>745.00</td>\n",
       "      <td>9.30</td>\n",
       "      <td>1.85</td>\n",
       "      <td>108000</td>\n",
       "    </tr>\n",
       "    <tr>\n",
       "      <th>3466</th>\n",
       "      <td>2</td>\n",
       "      <td>Color</td>\n",
       "      <td>Francis Ford Coppola</td>\n",
       "      <td>208.00</td>\n",
       "      <td>175.00</td>\n",
       "      <td>0.00</td>\n",
       "      <td>3000.00</td>\n",
       "      <td>Marlon Brando</td>\n",
       "      <td>14000.00</td>\n",
       "      <td>134821952.00</td>\n",
       "      <td>...</td>\n",
       "      <td>2238.00</td>\n",
       "      <td>English</td>\n",
       "      <td>USA</td>\n",
       "      <td>R</td>\n",
       "      <td>6000000.00</td>\n",
       "      <td>1972.00</td>\n",
       "      <td>10000.00</td>\n",
       "      <td>9.20</td>\n",
       "      <td>1.85</td>\n",
       "      <td>43000</td>\n",
       "    </tr>\n",
       "    <tr>\n",
       "      <th>66</th>\n",
       "      <td>3</td>\n",
       "      <td>Color</td>\n",
       "      <td>Christopher Nolan</td>\n",
       "      <td>645.00</td>\n",
       "      <td>152.00</td>\n",
       "      <td>22000.00</td>\n",
       "      <td>11000.00</td>\n",
       "      <td>Heath Ledger</td>\n",
       "      <td>23000.00</td>\n",
       "      <td>533316061.00</td>\n",
       "      <td>...</td>\n",
       "      <td>4667.00</td>\n",
       "      <td>English</td>\n",
       "      <td>USA</td>\n",
       "      <td>PG-13</td>\n",
       "      <td>185000000.00</td>\n",
       "      <td>2008.00</td>\n",
       "      <td>13000.00</td>\n",
       "      <td>9.00</td>\n",
       "      <td>2.35</td>\n",
       "      <td>37000</td>\n",
       "    </tr>\n",
       "    <tr>\n",
       "      <th>2837</th>\n",
       "      <td>4</td>\n",
       "      <td>Color</td>\n",
       "      <td>Francis Ford Coppola</td>\n",
       "      <td>149.00</td>\n",
       "      <td>220.00</td>\n",
       "      <td>0.00</td>\n",
       "      <td>3000.00</td>\n",
       "      <td>Al Pacino</td>\n",
       "      <td>22000.00</td>\n",
       "      <td>57300000.00</td>\n",
       "      <td>...</td>\n",
       "      <td>650.00</td>\n",
       "      <td>English</td>\n",
       "      <td>USA</td>\n",
       "      <td>R</td>\n",
       "      <td>13000000.00</td>\n",
       "      <td>1974.00</td>\n",
       "      <td>14000.00</td>\n",
       "      <td>9.00</td>\n",
       "      <td>1.85</td>\n",
       "      <td>14000</td>\n",
       "    </tr>\n",
       "    <tr>\n",
       "      <th>3481</th>\n",
       "      <td>5</td>\n",
       "      <td>Color</td>\n",
       "      <td>NaN</td>\n",
       "      <td>54.00</td>\n",
       "      <td>53.00</td>\n",
       "      <td>NaN</td>\n",
       "      <td>1000.00</td>\n",
       "      <td>Adam Goldberg</td>\n",
       "      <td>4000.00</td>\n",
       "      <td>NaN</td>\n",
       "      <td>...</td>\n",
       "      <td>173.00</td>\n",
       "      <td>English</td>\n",
       "      <td>USA</td>\n",
       "      <td>TV-MA</td>\n",
       "      <td>NaN</td>\n",
       "      <td>NaN</td>\n",
       "      <td>1000.00</td>\n",
       "      <td>9.00</td>\n",
       "      <td>1.78</td>\n",
       "      <td>61000</td>\n",
       "    </tr>\n",
       "    <tr>\n",
       "      <th>...</th>\n",
       "      <td>...</td>\n",
       "      <td>...</td>\n",
       "      <td>...</td>\n",
       "      <td>...</td>\n",
       "      <td>...</td>\n",
       "      <td>...</td>\n",
       "      <td>...</td>\n",
       "      <td>...</td>\n",
       "      <td>...</td>\n",
       "      <td>...</td>\n",
       "      <td>...</td>\n",
       "      <td>...</td>\n",
       "      <td>...</td>\n",
       "      <td>...</td>\n",
       "      <td>...</td>\n",
       "      <td>...</td>\n",
       "      <td>...</td>\n",
       "      <td>...</td>\n",
       "      <td>...</td>\n",
       "      <td>...</td>\n",
       "      <td>...</td>\n",
       "    </tr>\n",
       "    <tr>\n",
       "      <th>3026</th>\n",
       "      <td>244</td>\n",
       "      <td>Color</td>\n",
       "      <td>David Lean</td>\n",
       "      <td>89.00</td>\n",
       "      <td>200.00</td>\n",
       "      <td>767.00</td>\n",
       "      <td>382.00</td>\n",
       "      <td>Klaus Kinski</td>\n",
       "      <td>597.00</td>\n",
       "      <td>111722000.00</td>\n",
       "      <td>...</td>\n",
       "      <td>255.00</td>\n",
       "      <td>English</td>\n",
       "      <td>USA</td>\n",
       "      <td>PG-13</td>\n",
       "      <td>11000000.00</td>\n",
       "      <td>1965.00</td>\n",
       "      <td>396.00</td>\n",
       "      <td>8.00</td>\n",
       "      <td>2.35</td>\n",
       "      <td>7000</td>\n",
       "    </tr>\n",
       "    <tr>\n",
       "      <th>3179</th>\n",
       "      <td>245</td>\n",
       "      <td>Color</td>\n",
       "      <td>David Lynch</td>\n",
       "      <td>143.00</td>\n",
       "      <td>112.00</td>\n",
       "      <td>0.00</td>\n",
       "      <td>201.00</td>\n",
       "      <td>Richard Farnsworth</td>\n",
       "      <td>874.00</td>\n",
       "      <td>6197866.00</td>\n",
       "      <td>...</td>\n",
       "      <td>414.00</td>\n",
       "      <td>English</td>\n",
       "      <td>France</td>\n",
       "      <td>G</td>\n",
       "      <td>10000000.00</td>\n",
       "      <td>1999.00</td>\n",
       "      <td>262.00</td>\n",
       "      <td>8.00</td>\n",
       "      <td>2.35</td>\n",
       "      <td>0</td>\n",
       "    </tr>\n",
       "    <tr>\n",
       "      <th>1008</th>\n",
       "      <td>246</td>\n",
       "      <td>Color</td>\n",
       "      <td>Brad Bird</td>\n",
       "      <td>162.00</td>\n",
       "      <td>90.00</td>\n",
       "      <td>663.00</td>\n",
       "      <td>521.00</td>\n",
       "      <td>Harry Connick Jr.</td>\n",
       "      <td>14000.00</td>\n",
       "      <td>23159305.00</td>\n",
       "      <td>...</td>\n",
       "      <td>514.00</td>\n",
       "      <td>English</td>\n",
       "      <td>USA</td>\n",
       "      <td>PG</td>\n",
       "      <td>70000000.00</td>\n",
       "      <td>1999.00</td>\n",
       "      <td>631.00</td>\n",
       "      <td>8.00</td>\n",
       "      <td>2.35</td>\n",
       "      <td>0</td>\n",
       "    </tr>\n",
       "    <tr>\n",
       "      <th>3344</th>\n",
       "      <td>247</td>\n",
       "      <td>Color</td>\n",
       "      <td>Karan Johar</td>\n",
       "      <td>210.00</td>\n",
       "      <td>128.00</td>\n",
       "      <td>160.00</td>\n",
       "      <td>81.00</td>\n",
       "      <td>Jimmy Shergill</td>\n",
       "      <td>8000.00</td>\n",
       "      <td>4018695.00</td>\n",
       "      <td>...</td>\n",
       "      <td>235.00</td>\n",
       "      <td>Hindi</td>\n",
       "      <td>India</td>\n",
       "      <td>PG-13</td>\n",
       "      <td>12000000.00</td>\n",
       "      <td>2010.00</td>\n",
       "      <td>327.00</td>\n",
       "      <td>8.00</td>\n",
       "      <td>2.35</td>\n",
       "      <td>27000</td>\n",
       "    </tr>\n",
       "    <tr>\n",
       "      <th>3359</th>\n",
       "      <td>248</td>\n",
       "      <td>Color</td>\n",
       "      <td>Robert Wise</td>\n",
       "      <td>119.00</td>\n",
       "      <td>174.00</td>\n",
       "      <td>338.00</td>\n",
       "      <td>195.00</td>\n",
       "      <td>Angela Cartwright</td>\n",
       "      <td>354.00</td>\n",
       "      <td>163214286.00</td>\n",
       "      <td>...</td>\n",
       "      <td>406.00</td>\n",
       "      <td>English</td>\n",
       "      <td>USA</td>\n",
       "      <td>G</td>\n",
       "      <td>8200000.00</td>\n",
       "      <td>1965.00</td>\n",
       "      <td>209.00</td>\n",
       "      <td>8.00</td>\n",
       "      <td>2.35</td>\n",
       "      <td>15000</td>\n",
       "    </tr>\n",
       "  </tbody>\n",
       "</table>\n",
       "<p>248 rows × 29 columns</p>\n",
       "</div>"
      ],
      "text/plain": [
       "      rank  color         director_name  num_critic_for_reviews  duration  \\\n",
       "1937     1  Color        Frank Darabont                  199.00    142.00   \n",
       "3466     2  Color  Francis Ford Coppola                  208.00    175.00   \n",
       "66       3  Color     Christopher Nolan                  645.00    152.00   \n",
       "2837     4  Color  Francis Ford Coppola                  149.00    220.00   \n",
       "3481     5  Color                   NaN                   54.00     53.00   \n",
       "...    ...    ...                   ...                     ...       ...   \n",
       "3026   244  Color            David Lean                   89.00    200.00   \n",
       "3179   245  Color           David Lynch                  143.00    112.00   \n",
       "1008   246  Color             Brad Bird                  162.00     90.00   \n",
       "3344   247  Color           Karan Johar                  210.00    128.00   \n",
       "3359   248  Color           Robert Wise                  119.00    174.00   \n",
       "\n",
       "      director_facebook_likes  actor_3_facebook_likes        actor_2_name  \\\n",
       "1937                     0.00                  461.00      Jeffrey DeMunn   \n",
       "3466                     0.00                 3000.00       Marlon Brando   \n",
       "66                   22000.00                11000.00        Heath Ledger   \n",
       "2837                     0.00                 3000.00           Al Pacino   \n",
       "3481                      NaN                 1000.00       Adam Goldberg   \n",
       "...                       ...                     ...                 ...   \n",
       "3026                   767.00                  382.00        Klaus Kinski   \n",
       "3179                     0.00                  201.00  Richard Farnsworth   \n",
       "1008                   663.00                  521.00   Harry Connick Jr.   \n",
       "3344                   160.00                   81.00      Jimmy Shergill   \n",
       "3359                   338.00                  195.00   Angela Cartwright   \n",
       "\n",
       "      actor_1_facebook_likes        gross  ... num_user_for_reviews language  \\\n",
       "1937                11000.00  28341469.00  ...              4144.00  English   \n",
       "3466                14000.00 134821952.00  ...              2238.00  English   \n",
       "66                  23000.00 533316061.00  ...              4667.00  English   \n",
       "2837                22000.00  57300000.00  ...               650.00  English   \n",
       "3481                 4000.00          NaN  ...               173.00  English   \n",
       "...                      ...          ...  ...                  ...      ...   \n",
       "3026                  597.00 111722000.00  ...               255.00  English   \n",
       "3179                  874.00   6197866.00  ...               414.00  English   \n",
       "1008                14000.00  23159305.00  ...               514.00  English   \n",
       "3344                 8000.00   4018695.00  ...               235.00    Hindi   \n",
       "3359                  354.00 163214286.00  ...               406.00  English   \n",
       "\n",
       "     country  content_rating       budget title_year  actor_2_facebook_likes  \\\n",
       "1937     USA               R  25000000.00    1994.00                  745.00   \n",
       "3466     USA               R   6000000.00    1972.00                10000.00   \n",
       "66       USA           PG-13 185000000.00    2008.00                13000.00   \n",
       "2837     USA               R  13000000.00    1974.00                14000.00   \n",
       "3481     USA           TV-MA          NaN        NaN                 1000.00   \n",
       "...      ...             ...          ...        ...                     ...   \n",
       "3026     USA           PG-13  11000000.00    1965.00                  396.00   \n",
       "3179  France               G  10000000.00    1999.00                  262.00   \n",
       "1008     USA              PG  70000000.00    1999.00                  631.00   \n",
       "3344   India           PG-13  12000000.00    2010.00                  327.00   \n",
       "3359     USA               G   8200000.00    1965.00                  209.00   \n",
       "\n",
       "     imdb_score aspect_ratio  movie_facebook_likes  \n",
       "1937       9.30         1.85                108000  \n",
       "3466       9.20         1.85                 43000  \n",
       "66         9.00         2.35                 37000  \n",
       "2837       9.00         1.85                 14000  \n",
       "3481       9.00         1.78                 61000  \n",
       "...         ...          ...                   ...  \n",
       "3026       8.00         2.35                  7000  \n",
       "3179       8.00         2.35                     0  \n",
       "1008       8.00         2.35                     0  \n",
       "3344       8.00         2.35                 27000  \n",
       "3359       8.00         2.35                 15000  \n",
       "\n",
       "[248 rows x 29 columns]"
      ]
     },
     "execution_count": 72,
     "metadata": {},
     "output_type": "execute_result"
    }
   ],
   "source": [
    "# print a sample of the dataset\n",
    "IMDb_Top_250"
   ]
  },
  {
   "cell_type": "markdown",
   "metadata": {
    "id": "NjgK9l-XjS3G"
   },
   "source": [
    "Extract all the movies in the `IMDb_Top_250` dataframe which are not in the English language and store them in a new dataframe named `Top_Foreign_Lang_Film`."
   ]
  },
  {
   "cell_type": "code",
   "execution_count": 73,
   "metadata": {
    "id": "mlNoH5EQhvB9"
   },
   "outputs": [],
   "source": [
    "Top_Foreign_Lang_Film = IMDb_Top_250.copy(deep=True)\n",
    "Top_Foreign_Lang_Film = Top_Foreign_Lang_Film[Top_Foreign_Lang_Film['language'] != 'English'] # remove English movies"
   ]
  },
  {
   "cell_type": "code",
   "execution_count": 74,
   "metadata": {
    "id": "B-hwFCYdjWbC"
   },
   "outputs": [
    {
     "data": {
      "text/plain": [
       "4498    The Good, the Bad and the Ugly \n",
       "4747                     Seven Samurai \n",
       "4029                       City of God \n",
       "2373                     Spirited Away \n",
       "4259               The Lives of Others \n",
       "Name: movie_title, dtype: object"
      ]
     },
     "execution_count": 74,
     "metadata": {},
     "output_type": "execute_result"
    }
   ],
   "source": [
    "# print the top 5 foreign language films\n",
    "Top_Foreign_Lang_Film.head()['movie_title']"
   ]
  }
 ],
 "metadata": {
  "colab": {
   "authorship_tag": "ABX9TyNwx6Y1K8gbWZnS+2sExzlu",
   "mount_file_id": "1vWKDNn6HdfwfS9NZ4OaAlQeB9yuKrD3O",
   "provenance": [
    {
     "file_id": "1vWKDNn6HdfwfS9NZ4OaAlQeB9yuKrD3O",
     "timestamp": 1676003661008
    }
   ],
   "toc_visible": true
  },
  "kernelspec": {
   "display_name": "Python 3",
   "language": "python",
   "name": "python3"
  },
  "language_info": {
   "codemirror_mode": {
    "name": "ipython",
    "version": 3
   },
   "file_extension": ".py",
   "mimetype": "text/x-python",
   "name": "python",
   "nbconvert_exporter": "python",
   "pygments_lexer": "ipython3",
   "version": "3.9.21"
  }
 },
 "nbformat": 4,
 "nbformat_minor": 0
}
